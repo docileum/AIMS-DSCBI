{
 "cells": [
  {
   "cell_type": "code",
   "execution_count": null,
   "id": "2ca3822d",
   "metadata": {},
   "outputs": [],
   "source": [
    "import os\n",
    "import pandas as pd\n",
    "from pathlib import Path\n",
    "from dotenv import load_dotenv\n",
    "from sqlalchemy import create_engine, text\n",
    "from urllib.parse import quote"
   ]
  },
  {
   "cell_type": "code",
   "execution_count": null,
   "id": "587d82ac",
   "metadata": {},
   "outputs": [],
   "source": [
    "DIR_DATA = Path.cwd().parents[3] / \"Database/data/mse-daily-data\""
   ]
  },
  {
   "cell_type": "code",
   "execution_count": null,
   "id": "eaf070aa",
   "metadata": {},
   "outputs": [],
   "source": [
    "load_dotenv()  \n",
    "\n",
    "PGUSER = os.getenv(\"PGUSER\")\n",
    "PGPASSWORD = os.getenv(\"PGPASSWORD\")\n",
    "PGHOST = os.getenv(\"PGHOST\", \"localhost\")\n",
    "PGPORT = os.getenv(\"PGPORT\", \"5432\")\n",
    "# PGDATABASE = os.getenv(\"PGDATABASE\")\n",
    "PGDATABASEMSE = os.getenv(\"PGDATABASEMSE\")\n",
    "\n",
    "PGPASSWORD_ENC = quote(PGPASSWORD)"
   ]
  },
  {
   "cell_type": "code",
   "execution_count": null,
   "id": "73b1b442",
   "metadata": {},
   "outputs": [],
   "source": [
    "\n",
    "\n",
    "connection_string = f\"postgresql+psycopg2://{PGUSER}:{PGPASSWORD_ENC}@{PGHOST}:{PGPORT}/{PGDATABASEMSE}\"\n",
    "print(\"Using connection string (masked):\", f\"postgresql+psycopg2://{PGUSER}:***@{PGHOST}:{PGPORT}/{PGDATABASEMSE}\")\n",
    "\n",
    "engine = create_engine(connection_string, pool_pre_ping=True)\n",
    "\n",
    "with engine.connect() as conn:\n",
    "    who = conn.execute(text(\"SELECT current_user, current_database();\")).fetchone()\n",
    "    print(\"Connected as:\", who)\n"
   ]
  },
  {
   "cell_type": "code",
   "execution_count": null,
   "id": "cf9e070f",
   "metadata": {},
   "outputs": [],
   "source": [
    "\n",
    "all_files = [f for f in os.listdir(DIR_DATA) if f.endswith('.csv')]\n",
    "\n",
    "df_list = []\n",
    "for file in all_files:\n",
    "    file_path = os.path.join(DIR_DATA, file)\n",
    "    df = pd.read_csv(file_path)\n",
    "    df_list.append(df)\n",
    "\n",
    "# Combine all files into one DataFrame\n",
    "mse_combined_data = pd.concat(df_list, ignore_index=True)\n",
    "mse_combined_data['counter_id'] = range(1, len(mse_combined_data) + 1)\n",
    "mse_combined_data.head()\n"
   ]
  },
  {
   "cell_type": "code",
   "execution_count": null,
   "id": "90a92a6a",
   "metadata": {},
   "outputs": [],
   "source": [
    "mse_combined_data.head(20)"
   ]
  },
  {
   "cell_type": "code",
   "execution_count": null,
   "id": "6c361b30",
   "metadata": {},
   "outputs": [],
   "source": [
    "company_map = {\n",
    "    \"AIRTEL\": \"AIRTEL MALAWI PLC\",\n",
    "    \"BHL\": \"BLANTYRE HOTELS PLC\",\n",
    "    \"FDHB\": \"FDH BANK PLC\",\n",
    "    \"FMBCH\": \"FMB CAPITAL HOLDINGS PLC\",\n",
    "    \"ICON\": \"ICON PROPERTIES PLC\",\n",
    "    \"ILLOVO\": \"ILLOVO SUGAR MALAWI PLC\",\n",
    "    \"MPICO\": \"MPICO PLC\",\n",
    "    \"NBM\": \"NATIONAL BANK OF MALAWI\",\n",
    "    \"NBS\": \"NBS BANK PLC\",\n",
    "    \"NICO\": \"NICO HOLDINGS PLC\",\n",
    "    \"NITL\": \"NATIONAL INVESTMENT TRUST PLC\",\n",
    "    \"OMU\": \"OLD MUTUAL LIMITED\",\n",
    "    \"PCL\": \"PRESS CORPORATION PLC\",\n",
    "    \"STANDARD\": \"STANDARD BANK MALAWI PLC\",\n",
    "    \"SUNBIRD\": \"SUNBIRD TOURISM PLC\",\n",
    "    \"TNM\": \"TELEKOM NETWORKS MALAWI PLC\"\n",
    "}\n",
    "\n",
    "# Add a new column with the full name\n",
    "mse_combined_data[\"name\"] = mse_combined_data[\"counter\"].map(company_map)"
   ]
  },
  {
   "cell_type": "code",
   "execution_count": null,
   "id": "53ce58ef",
   "metadata": {},
   "outputs": [],
   "source": [
    "mse_combined_data = mse_combined_data.rename(columns={\n",
    "    \"counter\": \"ticker\",\n",
    "        \"trade_date\": \"date_listed\",\n",
    "        \"buy_price\": \"listing_price\"\n",
    "})\n",
    "\n",
    "selected_columns = [\"counter_id\", \"ticker\", \"name\", \"date_listed\", \"listing_price\"]\n",
    "counters_df = mse_combined_data[selected_columns]\n",
    "counters_df.to_csv(DIR_DATA.parent / \"mse_selected.csv\", index=False)"
   ]
  },
  {
   "cell_type": "code",
   "execution_count": null,
   "id": "a41c1115",
   "metadata": {},
   "outputs": [],
   "source": [
    "price_daily_columns = {\n",
    "    \"counter_id\": \"counter_id\",\n",
    "    \"date_listed\": \"trade_date\",\n",
    "    \"listing_price\": \"open_mwk\",\n",
    "    \"daily_range_high\": \"high_mwk\",\n",
    "    \"daily_range_low\": \"low_mwk\",\n",
    "    \"today_closing_price\": \"close_mwk\",\n",
    "    \"volume_traded\": \"volume\"\n",
    "}\n",
    "\n",
    "prices_daily_df = mse_combined_data.rename(columns=price_daily_columns)[list(price_daily_columns.values())]\n",
    "prices_daily_df.to_csv(DIR_DATA.parent / \"price_daily_data.csv\", index=False)"
   ]
  },
  {
   "cell_type": "code",
   "execution_count": null,
   "id": "6ca71b45",
   "metadata": {},
   "outputs": [],
   "source": [
    "# 1️⃣ Fetch existing counter_ids from the database\n",
    "with engine.connect() as conn:\n",
    "    existing_ids = conn.execute(text(\"SELECT counter_id FROM counters\")).fetchall()\n",
    "existing_ids = {row[0] for row in existing_ids}\n",
    "\n",
    "# 2️⃣ Keep only new rows that are not already in DB\n",
    "counters_df_new = counters_df[~counters_df['counter_id'].isin(existing_ids)]\n",
    "\n",
    "# 3️⃣ Insert new rows in chunks\n",
    "chunksize = 1000\n",
    "for start in range(0, len(counters_df_new), chunksize):\n",
    "    counters_df_new.iloc[start:start+chunksize].to_sql(\n",
    "        \"counters\",\n",
    "        con=engine,\n",
    "        if_exists=\"append\",\n",
    "        index=False,\n",
    "        method=\"multi\"\n",
    "    )\n",
    "\n",
    "print(f\"{len(counters_df_new)} new rows added to the database.\")\n",
    "\n"
   ]
  },
  {
   "cell_type": "code",
   "execution_count": null,
   "id": "2a68168b",
   "metadata": {},
   "outputs": [],
   "source": [
    "chunksize = 1000\n",
    "for start in range(0, len(counters_df), chunksize):\n",
    "    counters_df.iloc[start:start+chunksize].to_sql(\n",
    "        \"counters\", con=engine, if_exists=\"append\", index=False, method=\"multi\"\n",
    "    )\n"
   ]
  },
  {
   "cell_type": "code",
   "execution_count": null,
   "id": "f73869a4",
   "metadata": {},
   "outputs": [],
   "source": [
    "chunksize = 1000\n",
    "for start in range(0, len(prices_daily_df), chunksize):\n",
    "    prices_daily_df.iloc[start:start+chunksize].to_sql(\n",
    "        \"prices_daily\", con=engine, if_exists=\"append\", index=False, method=\"multi\"\n",
    "    )"
   ]
  },
  {
   "cell_type": "code",
   "execution_count": null,
   "id": "75985d16",
   "metadata": {},
   "outputs": [],
   "source": [
    "with engine.connect() as conn:\n",
    "    result = conn.execute(text(\"SELECT COUNT(*) FROM counters;\")).fetchone()\n",
    "    print(\"Total rows in counters:\", result[0])"
   ]
  },
  {
   "cell_type": "code",
   "execution_count": null,
   "id": "017ebb4e",
   "metadata": {},
   "outputs": [],
   "source": [
    "with engine.connect() as conn:\n",
    "    result = conn.execute(text(\"SELECT COUNT(*) FROM prices_daily;\")).fetchone()\n",
    "    print(\"Total rows in prices_daily:\", result[0])"
   ]
  },
  {
   "cell_type": "code",
   "execution_count": null,
   "id": "a81cd7ee",
   "metadata": {},
   "outputs": [],
   "source": [
    "# read the entire 'counters' table\n",
    "df_counters = pd.read_sql(\"SELECT * FROM counters LIMIT 5;\", con=engine)\n",
    "\n",
    "df_mse = pd.read_sql(\"SELECT * FROM prices_daily LIMIT 5;\", con=engine)\n",
    "\n",
    "# Print the DataFrame\n",
    "print(df_counters)\n",
    "print(\"*************************\")\n",
    "print(df_mse)"
   ]
  },
  {
   "cell_type": "code",
   "execution_count": null,
   "id": "cf0c3af6",
   "metadata": {},
   "outputs": [],
   "source": [
    "# SQL query\n",
    "query = \"\"\"\n",
    "SELECT ticker, name, date_listed\n",
    "FROM counters\n",
    "WHERE date_listed IS NOT NULL\n",
    "ORDER BY date_listed\n",
    "LIMIT 20;\n",
    "\"\"\"\n",
    "\n",
    "# Execute the query and load results into a pandas DataFrame\n",
    "df_listed = pd.read_sql(query, con=engine)\n",
    "\n",
    "# Print the results nicely\n",
    "print(\"Counters listed on the Malawi Stock Exchange:\")\n",
    "print(df_listed)"
   ]
  },
  {
   "cell_type": "code",
   "execution_count": null,
   "id": "c2602af7",
   "metadata": {},
   "outputs": [],
   "source": [
    "# SQL query \n",
    "query = \"\"\"\n",
    "SELECT ticker, name, MIN(date_listed) AS first_listed\n",
    "FROM counters\n",
    "WHERE date_listed IS NOT NULL\n",
    "GROUP BY ticker, name\n",
    "ORDER BY first_listed\n",
    "LIMIT 20;\n",
    "\"\"\"\n",
    "\n",
    "df_first_listed = pd.read_sql(query, con=engine)\n",
    "\n",
    "print(\"First occurrence of each counter on the Malawi Stock Exchange:\")\n",
    "print(df_first_listed)"
   ]
  },
  {
   "cell_type": "code",
   "execution_count": null,
   "id": "4b69a87c",
   "metadata": {},
   "outputs": [],
   "source": [
    "query = \"\"\"\n",
    "SELECT c.ticker, c.name, p.trade_date, p.close_mwk AS closing_price\n",
    "FROM counters c\n",
    "JOIN prices_daily p ON c.counter_id = p.counter_id\n",
    "WHERE p.trade_date = '2025-09-09'\n",
    "ORDER BY c.ticker;\n",
    "\"\"\"\n",
    "\n",
    "# Execute query and load into pandas\n",
    "df_closing = pd.read_sql(query, con=engine)\n",
    "\n",
    "# Print results\n",
    "print(\"Closing prices on 2025-09-09:\")\n",
    "print(df_closing)"
   ]
  },
  {
   "cell_type": "code",
   "execution_count": null,
   "id": "85e2cbac",
   "metadata": {},
   "outputs": [],
   "source": []
  }
 ],
 "metadata": {
  "kernelspec": {
   "display_name": "Python (venvdatabase)",
   "language": "python",
   "name": "venvdatabase"
  },
  "language_info": {
   "codemirror_mode": {
    "name": "ipython",
    "version": 3
   },
   "file_extension": ".py",
   "mimetype": "text/x-python",
   "name": "python",
   "nbconvert_exporter": "python",
   "pygments_lexer": "ipython3",
   "version": "3.11.9"
  }
 },
 "nbformat": 4,
 "nbformat_minor": 5
}
